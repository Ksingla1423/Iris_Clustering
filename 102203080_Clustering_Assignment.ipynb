{
  "nbformat": 4,
  "nbformat_minor": 0,
  "metadata": {
    "colab": {
      "provenance": [],
      "include_colab_link": true
    },
    "kernelspec": {
      "name": "python3",
      "display_name": "Python 3"
    },
    "language_info": {
      "name": "python"
    }
  },
  "cells": [
    {
      "cell_type": "markdown",
      "metadata": {
        "id": "view-in-github",
        "colab_type": "text"
      },
      "source": [
        "<a href=\"https://colab.research.google.com/github/Ksingla1423/Iris_Clustering/blob/main/102203080_Clustering_Assignment.ipynb\" target=\"_parent\"><img src=\"https://colab.research.google.com/assets/colab-badge.svg\" alt=\"Open In Colab\"/></a>"
      ]
    },
    {
      "cell_type": "code",
      "execution_count": 4,
      "metadata": {
        "id": "FrTlhyfOjdT0"
      },
      "outputs": [],
      "source": [
        "import numpy as np\n",
        "import pandas as pd\n",
        "from sklearn import datasets\n",
        "from sklearn.preprocessing import StandardScaler, MinMaxScaler\n",
        "from sklearn.preprocessing import StandardScaler\n",
        "from sklearn.decomposition import PCA\n",
        "from sklearn.cluster import KMeans, AgglomerativeClustering, MeanShift\n",
        "from sklearn.metrics import silhouette_score, calinski_harabasz_score, davies_bouldin_score"
      ]
    },
    {
      "cell_type": "code",
      "source": [
        "import pandas as pd\n",
        "\n",
        "url = \"https://archive.ics.uci.edu/ml/machine-learning-databases/iris/iris.data\"\n",
        "\n",
        "column_names = ['sepal_length', 'sepal_width', 'petal_length', 'petal_width', 'species']\n",
        "X = pd.read_csv(url, names=column_names)\n",
        "\n",
        "X = X.drop(columns='species')\n",
        "\n",
        "print(X.columns)"
      ],
      "metadata": {
        "colab": {
          "base_uri": "https://localhost:8080/"
        },
        "id": "e9iD1-ArkHZ_",
        "outputId": "b7a4bf42-7729-49dd-9259-506a5e7d4a8f"
      },
      "execution_count": 6,
      "outputs": [
        {
          "output_type": "stream",
          "name": "stdout",
          "text": [
            "Index(['sepal_length', 'sepal_width', 'petal_length', 'petal_width'], dtype='object')\n"
          ]
        }
      ]
    },
    {
      "cell_type": "code",
      "source": [
        "def normalize(data):\n",
        "    return MinMaxScaler().fit_transform(data)\n",
        "\n",
        "def standardize(data):\n",
        "    return StandardScaler().fit_transform(data)\n",
        "\n",
        "def transform_and_normalize(data):\n",
        "    data_std = standardize(data)\n",
        "    return normalize(data_std)\n",
        "\n",
        "def apply_pca(data, n_components=2):\n",
        "    return PCA(n_components=n_components).fit_transform(data)\n"
      ],
      "metadata": {
        "id": "2npPSVTukyFK"
      },
      "execution_count": 7,
      "outputs": []
    },
    {
      "cell_type": "code",
      "source": [
        "def evaluate_clustering(X, method_name, cluster_func, c_values=[3, 4, 5]):\n",
        "    results = []\n",
        "\n",
        "    for c in c_values:\n",
        "        try:\n",
        "            if method_name == 'MeanShift':\n",
        "                model = cluster_func()\n",
        "                labels = model.fit_predict(X)\n",
        "            else:\n",
        "                model = cluster_func(n_clusters=c)\n",
        "                labels = model.fit_predict(X)\n",
        "\n",
        "            sil = silhouette_score(X, labels)\n",
        "            ch = calinski_harabasz_score(X, labels)\n",
        "            db = davies_bouldin_score(X, labels)\n",
        "            results.append((sil, ch, db))\n",
        "        except Exception:\n",
        "            results.append(('NA', 'NA', 'NA'))\n",
        "\n",
        "    return results"
      ],
      "metadata": {
        "id": "QUBpXToYlFuz"
      },
      "execution_count": 8,
      "outputs": []
    },
    {
      "cell_type": "code",
      "source": [
        "preprocessing_methods = {\n",
        "    \"No Processing\": X,\n",
        "    \"Normalization\": normalize(X),\n",
        "    \"Transform\": standardize(X),\n",
        "    \"PCA\": apply_pca(X),\n",
        "    \"T+N\": transform_and_normalize(X),\n",
        "    \"T+N+PCA\": apply_pca(transform_and_normalize(X)),\n",
        "}\n",
        "\n",
        "c_values = [3, 4, 5]\n",
        "columns = ['c=3', 'c=4', 'c=5']\n",
        "index = pd.MultiIndex.from_product([['Silhouette', 'Calinski-Harabasz', 'Davies-Bouldins'], columns])\n",
        "\n",
        "def run_all(method_name, cluster_func):\n",
        "    all_results = []\n",
        "    for method, data in preprocessing_methods.items():\n",
        "        metrics = evaluate_clustering(data, method_name, cluster_func, c_values)\n",
        "        # Flatten results row-wise\n",
        "        row = []\n",
        "        for result in metrics:\n",
        "            row.extend(result)\n",
        "        all_results.append(pd.Series(row, index=index, name=method))\n",
        "    return pd.DataFrame(all_results)\n"
      ],
      "metadata": {
        "id": "InTLcTIdlHUo"
      },
      "execution_count": 9,
      "outputs": []
    },
    {
      "cell_type": "code",
      "source": [
        "# KMeans\n",
        "kmeans_table = run_all(\"KMeans\", lambda n_clusters: KMeans(n_clusters=n_clusters, n_init=10, random_state=42))\n",
        "\n",
        "# Hierarchical Clustering\n",
        "hierarchical_table = run_all(\"Hierarchical\", lambda n_clusters: AgglomerativeClustering(n_clusters=n_clusters))\n",
        "\n",
        "# Mean Shift Clustering\n",
        "meanshift_table = run_all(\"MeanShift\", lambda: MeanShift())"
      ],
      "metadata": {
        "id": "LDyEmvHKlJUd"
      },
      "execution_count": 10,
      "outputs": []
    },
    {
      "cell_type": "code",
      "source": [
        "print(\"=== K-Means Clustering ===\")\n",
        "print(kmeans_table)\n",
        "\n",
        "print(\"\\n=== Hierarchical Clustering ===\")\n",
        "print(hierarchical_table)\n",
        "\n",
        "print(\"\\n=== K-Means Shift Clustering ===\")\n",
        "print(meanshift_table)\n",
        "\n",
        "# Optionally export to CSV\n",
        "kmeans_table.to_csv(\"kmeans_results.csv\")\n",
        "hierarchical_table.to_csv(\"hierarchical_results.csv\")\n",
        "meanshift_table.to_csv(\"meanshift_results.csv\")\n"
      ],
      "metadata": {
        "colab": {
          "base_uri": "https://localhost:8080/"
        },
        "id": "gCA4btCPlPtV",
        "outputId": "352ba51d-b9a4-484b-c8ab-2bd6f3fa81b9"
      },
      "execution_count": 11,
      "outputs": [
        {
          "output_type": "stream",
          "name": "stdout",
          "text": [
            "=== K-Means Clustering ===\n",
            "              Silhouette                       Calinski-Harabasz              \\\n",
            "                     c=3         c=4       c=5               c=3         c=4   \n",
            "No Processing   0.552592  560.399924  0.662323          0.497826  529.398294   \n",
            "Normalization   0.504319  358.567217  0.760975          0.444627  313.183841   \n",
            "Transform       0.458972  239.341801  0.835410          0.385285  206.092874   \n",
            "PCA             0.597565  692.404721  0.565084          0.558166  717.787035   \n",
            "T+N             0.504319  358.567217  0.760975          0.444627  313.183841   \n",
            "T+N+PCA         0.565224  472.089568  0.609629          0.526889  449.205143   \n",
            "\n",
            "                        Davies-Bouldins                        \n",
            "                    c=5             c=3         c=4       c=5  \n",
            "No Processing  0.780640        0.488518  494.094382  0.806241  \n",
            "Normalization  0.901127        0.355383  289.927527  0.953884  \n",
            "Transform      0.872729        0.347265  201.987516  0.940632  \n",
            "PCA            0.613378        0.553418  682.399901  0.639060  \n",
            "T+N            0.901127        0.355383  289.927527  0.953884  \n",
            "T+N+PCA        0.683285        0.447124  457.511422  0.742267  \n",
            "\n",
            "=== Hierarchical Clustering ===\n",
            "              Silhouette                       Calinski-Harabasz              \\\n",
            "                     c=3         c=4       c=5               c=3         c=4   \n",
            "No Processing   0.554097  556.841122  0.656604          0.488740  513.772164   \n",
            "Normalization   0.504349  348.030961  0.748647          0.432557  299.899189   \n",
            "Transform       0.445540  220.260437  0.805940          0.399326  198.730315   \n",
            "PCA             0.598386  687.372075  0.560729          0.540933  672.569721   \n",
            "T+N             0.504349  348.030961  0.748647          0.432557  299.899189   \n",
            "T+N+PCA         0.553435  422.450395  0.575257          0.510435  427.410748   \n",
            "\n",
            "                        Davies-Bouldins                        \n",
            "                    c=5             c=3         c=4       c=5  \n",
            "No Processing  0.795602        0.484155  487.070341  0.820687  \n",
            "Normalization  0.849343        0.345371  273.637503  0.910150  \n",
            "Transform      0.981081        0.354970  194.961557  0.946529  \n",
            "PCA            0.654855        0.548655  664.102376  0.652847  \n",
            "T+N            0.849343        0.345371  273.637503  0.910150  \n",
            "T+N+PCA        0.730020        0.438220  424.556239  0.766849  \n",
            "\n",
            "=== K-Means Shift Clustering ===\n",
            "              Silhouette                       Calinski-Harabasz              \\\n",
            "                     c=3         c=4       c=5               c=3         c=4   \n",
            "No Processing   0.685482  508.882183  0.389291          0.685482  508.882183   \n",
            "Normalization   0.629468  353.367403  0.487705          0.629468  353.367403   \n",
            "Transform       0.580184  248.903428  0.597555          0.580184  248.903428   \n",
            "PCA             0.710078  564.900085  0.355714          0.710078  564.900085   \n",
            "T+N             0.629468  353.367403  0.487705          0.629468  353.367403   \n",
            "T+N+PCA         0.661152  409.041358  0.446030          0.661152  409.041358   \n",
            "\n",
            "                        Davies-Bouldins                        \n",
            "                    c=5             c=3         c=4       c=5  \n",
            "No Processing  0.389291        0.685482  508.882183  0.389291  \n",
            "Normalization  0.487705        0.629468  353.367403  0.487705  \n",
            "Transform      0.597555        0.580184  248.903428  0.597555  \n",
            "PCA            0.355714        0.710078  564.900085  0.355714  \n",
            "T+N            0.487705        0.629468  353.367403  0.487705  \n",
            "T+N+PCA        0.446030        0.661152  409.041358  0.446030  \n"
          ]
        }
      ]
    },
    {
      "cell_type": "code",
      "source": [
        "def print_formatted_results(title, df):\n",
        "    print(f\"\\n=== {title} ===\\n\")\n",
        "\n",
        "    metrics = ['Silhouette', 'Calinski-Harabasz', 'Davies-Bouldins']\n",
        "    cluster_counts = ['c=3', 'c=4', 'c=5']\n",
        "\n",
        "    for metric in metrics:\n",
        "        print(metric)\n",
        "        print(f\"{'Parameters':<20} {'c=3':<12} {'c=4':<12} {'c=5':<12}\")\n",
        "        print(\"-\" * 60)\n",
        "        for index, row in df.iterrows():\n",
        "            values = []\n",
        "            for c in cluster_counts:\n",
        "                val = row.get((metric, c), 'NA')\n",
        "                if isinstance(val, (int, float)):\n",
        "                    values.append(f\"{val:<12.3f}\")\n",
        "                else:\n",
        "                    values.append(f\"{str(val):<12}\")\n",
        "            print(f\"{index:<20} {values[0]} {values[1]} {values[2]}\")\n",
        "        print()\n",
        "\n",
        "\n",
        "# Example usage:\n",
        "print_formatted_results(\"K-Means Clustering\", kmeans_table)\n",
        "print_formatted_results(\"Hierarchical Clustering\", hierarchical_table)\n",
        "print_formatted_results(\"K-Means Shift Clustering\", meanshift_table)"
      ],
      "metadata": {
        "colab": {
          "base_uri": "https://localhost:8080/"
        },
        "id": "lF-MG6SobOca",
        "outputId": "8dcf4dc0-1f91-451a-f71d-85818d981b1d"
      },
      "execution_count": 12,
      "outputs": [
        {
          "output_type": "stream",
          "name": "stdout",
          "text": [
            "\n",
            "=== K-Means Clustering ===\n",
            "\n",
            "Silhouette\n",
            "Parameters           c=3          c=4          c=5         \n",
            "------------------------------------------------------------\n",
            "No Processing        0.553        560.400      0.662       \n",
            "Normalization        0.504        358.567      0.761       \n",
            "Transform            0.459        239.342      0.835       \n",
            "PCA                  0.598        692.405      0.565       \n",
            "T+N                  0.504        358.567      0.761       \n",
            "T+N+PCA              0.565        472.090      0.610       \n",
            "\n",
            "Calinski-Harabasz\n",
            "Parameters           c=3          c=4          c=5         \n",
            "------------------------------------------------------------\n",
            "No Processing        0.498        529.398      0.781       \n",
            "Normalization        0.445        313.184      0.901       \n",
            "Transform            0.385        206.093      0.873       \n",
            "PCA                  0.558        717.787      0.613       \n",
            "T+N                  0.445        313.184      0.901       \n",
            "T+N+PCA              0.527        449.205      0.683       \n",
            "\n",
            "Davies-Bouldins\n",
            "Parameters           c=3          c=4          c=5         \n",
            "------------------------------------------------------------\n",
            "No Processing        0.489        494.094      0.806       \n",
            "Normalization        0.355        289.928      0.954       \n",
            "Transform            0.347        201.988      0.941       \n",
            "PCA                  0.553        682.400      0.639       \n",
            "T+N                  0.355        289.928      0.954       \n",
            "T+N+PCA              0.447        457.511      0.742       \n",
            "\n",
            "\n",
            "=== Hierarchical Clustering ===\n",
            "\n",
            "Silhouette\n",
            "Parameters           c=3          c=4          c=5         \n",
            "------------------------------------------------------------\n",
            "No Processing        0.554        556.841      0.657       \n",
            "Normalization        0.504        348.031      0.749       \n",
            "Transform            0.446        220.260      0.806       \n",
            "PCA                  0.598        687.372      0.561       \n",
            "T+N                  0.504        348.031      0.749       \n",
            "T+N+PCA              0.553        422.450      0.575       \n",
            "\n",
            "Calinski-Harabasz\n",
            "Parameters           c=3          c=4          c=5         \n",
            "------------------------------------------------------------\n",
            "No Processing        0.489        513.772      0.796       \n",
            "Normalization        0.433        299.899      0.849       \n",
            "Transform            0.399        198.730      0.981       \n",
            "PCA                  0.541        672.570      0.655       \n",
            "T+N                  0.433        299.899      0.849       \n",
            "T+N+PCA              0.510        427.411      0.730       \n",
            "\n",
            "Davies-Bouldins\n",
            "Parameters           c=3          c=4          c=5         \n",
            "------------------------------------------------------------\n",
            "No Processing        0.484        487.070      0.821       \n",
            "Normalization        0.345        273.638      0.910       \n",
            "Transform            0.355        194.962      0.947       \n",
            "PCA                  0.549        664.102      0.653       \n",
            "T+N                  0.345        273.638      0.910       \n",
            "T+N+PCA              0.438        424.556      0.767       \n",
            "\n",
            "\n",
            "=== K-Means Shift Clustering ===\n",
            "\n",
            "Silhouette\n",
            "Parameters           c=3          c=4          c=5         \n",
            "------------------------------------------------------------\n",
            "No Processing        0.685        508.882      0.389       \n",
            "Normalization        0.629        353.367      0.488       \n",
            "Transform            0.580        248.903      0.598       \n",
            "PCA                  0.710        564.900      0.356       \n",
            "T+N                  0.629        353.367      0.488       \n",
            "T+N+PCA              0.661        409.041      0.446       \n",
            "\n",
            "Calinski-Harabasz\n",
            "Parameters           c=3          c=4          c=5         \n",
            "------------------------------------------------------------\n",
            "No Processing        0.685        508.882      0.389       \n",
            "Normalization        0.629        353.367      0.488       \n",
            "Transform            0.580        248.903      0.598       \n",
            "PCA                  0.710        564.900      0.356       \n",
            "T+N                  0.629        353.367      0.488       \n",
            "T+N+PCA              0.661        409.041      0.446       \n",
            "\n",
            "Davies-Bouldins\n",
            "Parameters           c=3          c=4          c=5         \n",
            "------------------------------------------------------------\n",
            "No Processing        0.685        508.882      0.389       \n",
            "Normalization        0.629        353.367      0.488       \n",
            "Transform            0.580        248.903      0.598       \n",
            "PCA                  0.710        564.900      0.356       \n",
            "T+N                  0.629        353.367      0.488       \n",
            "T+N+PCA              0.661        409.041      0.446       \n",
            "\n"
          ]
        }
      ]
    },
    {
      "cell_type": "code",
      "source": [],
      "metadata": {
        "id": "b7pkr8F2Xk_P"
      },
      "execution_count": null,
      "outputs": []
    }
  ]
}